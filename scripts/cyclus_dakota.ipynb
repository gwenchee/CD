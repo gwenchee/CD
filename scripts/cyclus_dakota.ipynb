{
 "cells": [
  {
   "cell_type": "code",
   "execution_count": 25,
   "metadata": {},
   "outputs": [],
   "source": [
    "import jinja2\n",
    "import ast"
   ]
  },
  {
   "cell_type": "code",
   "execution_count": 9,
   "metadata": {},
   "outputs": [],
   "source": [
    "xml_template = '../cyclus-files/test.xml.in'"
   ]
  },
  {
   "cell_type": "code",
   "execution_count": 10,
   "metadata": {},
   "outputs": [],
   "source": [
    "a = 2000"
   ]
  },
  {
   "cell_type": "code",
   "execution_count": 11,
   "metadata": {},
   "outputs": [],
   "source": [
    "def load_template(in_template):\n",
    "    \"\"\" Returns a jinja2 template from file.\n",
    "\n",
    "    Parameters\n",
    "    ---------\n",
    "    in_template: str\n",
    "        path and name of jinja2 template\n",
    "\n",
    "    Returns\n",
    "    -------\n",
    "    output_template: jinja template object\n",
    "    \"\"\"\n",
    "    with open(in_template, 'r') as default:\n",
    "        output_template = jinja2.Template(default.read())\n",
    "    return output_template\n",
    "\n",
    "\n",
    "test_template = load_template(xml_template)"
   ]
  },
  {
   "cell_type": "code",
   "execution_count": 20,
   "metadata": {},
   "outputs": [],
   "source": [
    "config = test_template.render(power_cap = 200)"
   ]
  },
  {
   "cell_type": "code",
   "execution_count": 18,
   "metadata": {},
   "outputs": [],
   "source": [
    "with open('../cyclus-files/test.xml','w') as output:\n",
    "    output.write(config)"
   ]
  },
  {
   "cell_type": "code",
   "execution_count": 34,
   "metadata": {},
   "outputs": [],
   "source": [
    "in_dict = {'power_cap':100}\n",
    "value_list = [200]"
   ]
  },
  {
   "cell_type": "code",
   "execution_count": 36,
   "metadata": {},
   "outputs": [],
   "source": [
    "config = test_template.render(in_dict)"
   ]
  },
  {
   "cell_type": "code",
   "execution_count": 37,
   "metadata": {},
   "outputs": [],
   "source": [
    "with open('../cyclus-files/test.xml','w') as output:\n",
    "    output.write(config)"
   ]
  },
  {
   "cell_type": "code",
   "execution_count": 39,
   "metadata": {},
   "outputs": [
    {
     "name": "stdout",
     "output_type": "stream",
     "text": [
      "No input file specified.\n",
      "Usage:   cyclus [opts] [input-file]\n",
      "\n",
      "  -h [ --help ]               produce help message\n",
      "  -V [ --version ]            print cyclus core and dependency versions and \n",
      "                              quit\n",
      "  --restart arg               restart from the specified simulation snapshot \n",
      "                              [db-file]:[sim-id]:[timestep]\n",
      "  --schema                    dump the cyclus master schema including all \n",
      "                              installed module schemas\n",
      "  --agent-schema arg          dump the schema for the named agent\n",
      "  --agent-version arg         print the version of the specified agent\n",
      "  --schema-path arg           manually specify the path to the cyclus master \n",
      "                              schema\n",
      "  --flat-schema               use the flat master simulation schema\n",
      "  --agent-annotations arg     dump the annotations for the named agent\n",
      "  -l [ --agent-listing ] arg  dump the agents in a library.\n",
      "  -a [ --all-agent-listing ]  dump all the agents cyclus knows about.\n",
      "  -m [ --metadata ]           dump metadata for all the agents cyclus knows \n",
      "                              about.\n",
      "  --no-agent                  only print log entries from cyclus core code\n",
      "  --no-mem                    exclude memory log statement from logger output\n",
      "  -v [ --verb ] arg           log verbosity. integer from 0 (quiet) to 11 \n",
      "                              (verbose).\n",
      "  -o [ --output-path ] arg    output path\n",
      "  -i [ --input-file ] arg     input file, may be a path or a raw string\n",
      "  -f [ --format ] arg (=none) input file format if a raw string, may be none, \n",
      "                              xml, json, or py.\n",
      "  --warn-limit arg            number of warnings to issue per kind, defaults to\n",
      "                              42\n",
      "  --warn-as-error             throw errors when warnings are issued\n",
      "  -p [ --path ]               print the CYCLUS_PATH\n",
      "  --include                   print the cyclus include directory\n",
      "  --install-path              print the cyclus install directory\n",
      "  --cmake-module-path         print the cyclus CMake module path\n",
      "  --build-path                print the cyclus build directory\n",
      "  --rng-schema                print the path to cyclus.rng.in\n",
      "  --rng-print                 prints the full relaxng schema for the simulation\n",
      "  --nuc-data                  print the path to cyclus_nuc_data.h5\n",
      "  --json-to-xml arg           *.json input file\n",
      "  --xml-to-json arg           *.xml input file\n",
      "  --json-to-py arg            *.json input file\n",
      "  --py-to-json arg            *.py input file\n",
      "  --py-to-xml arg             *.py input file\n",
      "  --xml-to-py arg             *.xml input file\n",
      "\n"
     ]
    }
   ],
   "source": [
    "!cyclus"
   ]
  },
  {
   "cell_type": "code",
   "execution_count": null,
   "metadata": {},
   "outputs": [],
   "source": []
  }
 ],
 "metadata": {
  "kernelspec": {
   "display_name": "Python 3",
   "language": "python",
   "name": "python3"
  },
  "language_info": {
   "codemirror_mode": {
    "name": "ipython",
    "version": 3
   },
   "file_extension": ".py",
   "mimetype": "text/x-python",
   "name": "python",
   "nbconvert_exporter": "python",
   "pygments_lexer": "ipython3",
   "version": "3.6.4"
  }
 },
 "nbformat": 4,
 "nbformat_minor": 2
}
